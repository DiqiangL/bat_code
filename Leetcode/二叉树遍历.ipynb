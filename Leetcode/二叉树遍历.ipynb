{
 "cells": [
  {
   "cell_type": "markdown",
   "metadata": {},
   "source": [
    "## 递归写法"
   ]
  },
  {
   "cell_type": "code",
   "execution_count": 10,
   "metadata": {},
   "outputs": [],
   "source": [
    "## 定义二叉树的结点类 TreeNode\n",
    "class TreeNode:\n",
    "    def __init__(self, left=None, right=None, val=0):\n",
    "        self.left = left\n",
    "        self.right = right\n",
    "        self.val = val\n",
    "\n",
    "## 前序遍历: root -> left -> right\n",
    "def preorder(root):\n",
    "    if root is None:\n",
    "        return []\n",
    "    return [root.val] + preorder(root.left) + preorder(root.right)\n",
    "\n",
    "## 中序遍历: left -> root -> right\n",
    "def inorder(root):\n",
    "    if root is None:\n",
    "        return []\n",
    "    return inorder(root.left) + [root.val] + inorder(root.right)\n",
    "\n",
    "## 后续遍历: left -> right -> root\n",
    "def postorder(root):\n",
    "    if root is None:\n",
    "        return []\n",
    "    return postorder(root.left) + postorder(root.right) + [root.val]\n",
    "\n"
   ]
  },
  {
   "cell_type": "code",
   "execution_count": 12,
   "metadata": {},
   "outputs": [
    {
     "name": "stdout",
     "output_type": "stream",
     "text": [
      "前序遍历: [1, 2, 4, 5, 3]\n",
      "中序遍历: [4, 2, 5, 1, 3]\n",
      "后序遍历: [4, 5, 2, 3, 1]\n"
     ]
    }
   ],
   "source": [
    "## 测试\n",
    "\"\"\"\n",
    "    1\n",
    "   / \\\n",
    "  2   3\n",
    " / \\\n",
    "4   5\n",
    "\"\"\"\n",
    "\n",
    "node4 = TreeNode(None,None,4)\n",
    "node5 = TreeNode(None, None,5)\n",
    "node2 = TreeNode(node4, node5, 2)\n",
    "node3 = TreeNode(None, None,3)\n",
    "root = TreeNode(node2, node3, 1)\n",
    "\n",
    "\n",
    "print(\"前序遍历:\", preorder(root))  # 应该输出: [1, 2, 4, 5, 3]\n",
    "print(\"中序遍历:\", inorder(root))   # 应该输出: [4, 2, 5, 1, 3]\n",
    "print(\"后序遍历:\", postorder(root)) # 应该输出: [4, 5, 2, 3, 1]\n"
   ]
  },
  {
   "cell_type": "code",
   "execution_count": null,
   "metadata": {},
   "outputs": [],
   "source": []
  }
 ],
 "metadata": {
  "kernelspec": {
   "display_name": "base",
   "language": "python",
   "name": "python3"
  },
  "language_info": {
   "codemirror_mode": {
    "name": "ipython",
    "version": 3
   },
   "file_extension": ".py",
   "mimetype": "text/x-python",
   "name": "python",
   "nbconvert_exporter": "python",
   "pygments_lexer": "ipython3",
   "version": "3.11.4"
  }
 },
 "nbformat": 4,
 "nbformat_minor": 2
}
