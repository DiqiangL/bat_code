{
 "cells": [
  {
   "cell_type": "markdown",
   "metadata": {},
   "source": [
    "## 递归写法"
   ]
  },
  {
   "cell_type": "code",
   "execution_count": 1,
   "metadata": {},
   "outputs": [],
   "source": [
    "## 定义二叉树的结点类 TreeNode\n",
    "class TreeNode:\n",
    "    def __init__(self, left=None, right=None, val=0):\n",
    "        self.left = left\n",
    "        self.right = right\n",
    "        self.val = val\n",
    "\n",
    "## 前序遍历: root -> left -> right\n",
    "def preorder(root):\n",
    "    if root is None:\n",
    "        return []\n",
    "    return [root.val] + preorder(root.left) + preorder(root.right)\n",
    "\n",
    "## 中序遍历: left -> root -> right\n",
    "def inorder(root):\n",
    "    if root is None:\n",
    "        return []\n",
    "    return inorder(root.left) + [root.val] + inorder(root.right)\n",
    "\n",
    "## 后续遍历: left -> right -> root\n",
    "def postorder(root):\n",
    "    if root is None:\n",
    "        return []\n",
    "    return postorder(root.left) + postorder(root.right) + [root.val]\n",
    "\n"
   ]
  },
  {
   "cell_type": "code",
   "execution_count": 12,
   "metadata": {},
   "outputs": [
    {
     "name": "stdout",
     "output_type": "stream",
     "text": [
      "前序遍历: [1, 2, 4, 5, 3]\n",
      "中序遍历: [4, 2, 5, 1, 3]\n",
      "后序遍历: [4, 5, 2, 3, 1]\n"
     ]
    }
   ],
   "source": [
    "## 测试\n",
    "\"\"\"\n",
    "    1\n",
    "   / \\\n",
    "  2   3\n",
    " / \\\n",
    "4   5\n",
    "\"\"\"\n",
    "\n",
    "node4 = TreeNode(None,None,4)\n",
    "node5 = TreeNode(None, None,5)\n",
    "node2 = TreeNode(node4, node5, 2)\n",
    "node3 = TreeNode(None, None,3)\n",
    "root = TreeNode(node2, node3, 1)\n",
    "\n",
    "\n",
    "print(\"前序遍历:\", preorder(root))  # 应该输出: [1, 2, 4, 5, 3]\n",
    "print(\"中序遍历:\", inorder(root))   # 应该输出: [4, 2, 5, 1, 3]\n",
    "print(\"后序遍历:\", postorder(root)) # 应该输出: [4, 5, 2, 3, 1]\n"
   ]
  },
  {
   "cell_type": "markdown",
   "metadata": {},
   "source": [
    "## 迭代写法"
   ]
  },
  {
   "cell_type": "code",
   "execution_count": 7,
   "metadata": {},
   "outputs": [],
   "source": [
    "## 前序遍历\n",
    "def preorder_iterative(root):\n",
    "    if not root:\n",
    "        return []\n",
    "    stack = [root]\n",
    "    res = []\n",
    "    while stack:\n",
    "        node = stack.pop()\n",
    "        if node:\n",
    "            res.append(node.val)\n",
    "            if node.right:\n",
    "                stack.append(node.right)\n",
    "            if node.left:\n",
    "                stack.append(node.left)\n",
    "    return res\n",
    "\n",
    "## 中序遍历\n",
    "def inorder_iteractive(root):\n",
    "    if not root:\n",
    "        return []\n",
    "    stack = []\n",
    "    res = []\n",
    "    current = root\n",
    "    while stack or current:\n",
    "        while current:\n",
    "            stack.append(current)\n",
    "            current = current.left\n",
    "        current = stack.pop()\n",
    "        res.append(current.val)\n",
    "        current = current.right\n",
    "    return res\n",
    "\n",
    "# 后序遍历\n",
    "def postorder_iteractive(root):\n",
    "    if not root:\n",
    "        return []\n",
    "    stack = [root]\n",
    "    res = []\n",
    "    while stack:\n",
    "        node = stack.pop()\n",
    "        res.insert(0, node.val)\n",
    "        if node.left:\n",
    "            stack.append(node.left)\n",
    "        if node.right:\n",
    "            stack.append(node.right)\n",
    "    return res"
   ]
  },
  {
   "cell_type": "code",
   "execution_count": 8,
   "metadata": {},
   "outputs": [
    {
     "name": "stdout",
     "output_type": "stream",
     "text": [
      "前序遍历: [1, 2, 4, 5, 3]\n",
      "中序遍历: [4, 2, 5, 1, 3]\n",
      "后序遍历: [4, 5, 2, 3, 1]\n"
     ]
    }
   ],
   "source": [
    "node4 = TreeNode(None,None,4)\n",
    "node5 = TreeNode(None, None,5)\n",
    "node2 = TreeNode(node4, node5, 2)\n",
    "node3 = TreeNode(None, None,3)\n",
    "root = TreeNode(node2, node3, 1)\n",
    "\n",
    "\n",
    "print(\"前序遍历:\", preorder_iterative(root))  # 应该输出: [1, 2, 4, 5, 3]\n",
    "print(\"中序遍历:\", inorder_iteractive(root))   # 应该输出: [4, 2, 5, 1, 3]\n",
    "print(\"后序遍历:\", postorder_iteractive(root)) # 应该输出: [4, 5, 2, 3, 1]\n"
   ]
  },
  {
   "cell_type": "markdown",
   "metadata": {},
   "source": [
    "## 层次遍历\n"
   ]
  },
  {
   "cell_type": "code",
   "execution_count": 7,
   "metadata": {},
   "outputs": [
    {
     "name": "stdout",
     "output_type": "stream",
     "text": [
      "深度: 3\n",
      "深度: 3\n"
     ]
    }
   ],
   "source": [
    "# 二叉树的深度\n",
    "class TreeNode:\n",
    "    def __init__(self, val=0, left=None, right=None):\n",
    "        self.val = val\n",
    "        self.left = left\n",
    "        self.right = right\n",
    "            \n",
    "\n",
    "\n",
    "## 递归写法 dfs\n",
    "def max_depth(root: TreeNode) -> int:\n",
    "    if not root:\n",
    "        return 0\n",
    "    left_depth = max_depth(root.left)\n",
    "    right_depth = max_depth(root.right)\n",
    "    return max(left_depth, right_depth) + 1\n",
    " \n",
    "\n",
    "## 层次遍历写法 bfs\n",
    "def max_depth_bfs(root:TreeNode) -> int:\n",
    "    if not root: return 0\n",
    "    queue, res = [root], 0\n",
    "    while queue:\n",
    "        tmp = []\n",
    "        for node in queue:\n",
    "            if node.left: tmp.append(node.left)\n",
    "            if node.right: tmp.append(node.right)\n",
    "        queue = tmp\n",
    "        res += 1\n",
    "    return res\n",
    "\n",
    "\n",
    "## 测试\n",
    "\n",
    "node4 = TreeNode(4, None,None)\n",
    "node5 = TreeNode(5, None, None)\n",
    "node2 = TreeNode(2, node4, node5)\n",
    "node3 = TreeNode(3, None, None)\n",
    "root = TreeNode(1, node2, node3)\n",
    "\n",
    "\n",
    "print(\"深度:\", max_depth(root))\n",
    "print(\"深度:\", max_depth_bfs(root))  "
   ]
  },
  {
   "cell_type": "markdown",
   "metadata": {},
   "source": []
  }
 ],
 "metadata": {
  "kernelspec": {
   "display_name": "base",
   "language": "python",
   "name": "python3"
  },
  "language_info": {
   "codemirror_mode": {
    "name": "ipython",
    "version": 3
   },
   "file_extension": ".py",
   "mimetype": "text/x-python",
   "name": "python",
   "nbconvert_exporter": "python",
   "pygments_lexer": "ipython3",
   "version": "3.11.4"
  }
 },
 "nbformat": 4,
 "nbformat_minor": 2
}
