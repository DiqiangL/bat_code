{
 "cells": [
  {
   "cell_type": "code",
   "execution_count": 1,
   "metadata": {},
   "outputs": [],
   "source": [
    "## Python实现前缀树\n",
    "\n",
    "class TrieNode:\n",
    "\n",
    "    ## __init__方法初始化一个Trie节点，包含一个字典children，用于存储子节点，以及一个布尔值is_end_of_word，表示该节点是否是一个单词的结尾。\n",
    "    def __init__(self):\n",
    "        self.children = {}\n",
    "        self.is_end_of_word = False\n",
    "    \n",
    "\n",
    "class Trie:\n",
    "    def __init__(self):\n",
    "        # __init__方法初始化Trie的根节点。\n",
    "        self.root = TrieNode()\n",
    "\n",
    "    # insert方法用于插入一个单词。遍历单词中的每个字母，如果当前字母不在当前节点的子节点中，则创建一个新的TrieNode，并移动到该节点。最后，将is_end_of_word标记为True，表示插入结束。\n",
    "    def insert(self, word):\n",
    "        current = self.root\n",
    "        for letter in word:\n",
    "            if letter not in current.children:\n",
    "                current.children[letter] = TrieNode()\n",
    "            current = current.children[letter]\n",
    "        current.is_end_of_word = True\n",
    "\n",
    "    # search方法用于查找一个单词。遍历单词中的每个字母，如果当前字母不在当前节点的子节点中，返回False。如果遍历结束后，当前节点的is_end_of_word为True，则表示找到该单词。\n",
    "    def search(self, word):\n",
    "        current = self.root\n",
    "        for letter in word:\n",
    "            if letter not in current.children:\n",
    "                return False\n",
    "            current = current.children[letter]\n",
    "        return current.is_end_of_word\n",
    "\n",
    "    # starts_with方法用于检查是否存在以指定前缀开始的单词。与search方法类似，只是不用检查最后的is_end_of_word。\n",
    "    def starts_with(self, prefix):\n",
    "        current = self.root\n",
    "        for letter in prefix:\n",
    "            if letter not in current.children:\n",
    "                return False\n",
    "            current = current.children[letter]\n",
    "        return True"
   ]
  },
  {
   "cell_type": "code",
   "execution_count": 2,
   "metadata": {},
   "outputs": [
    {
     "name": "stdout",
     "output_type": "stream",
     "text": [
      "True\n",
      "False\n",
      "True\n",
      "True\n"
     ]
    }
   ],
   "source": [
    "\n",
    "# 示例用法\n",
    "trie = Trie()\n",
    "trie.insert(\"apple\")\n",
    "print(trie.search(\"apple\"))   # 输出: True\n",
    "print(trie.search(\"app\"))     # 输出: False\n",
    "print(trie.starts_with(\"app\")) # 输出: True\n",
    "trie.insert(\"app\")\n",
    "print(trie.search(\"app\"))     # 输出: True"
   ]
  }
 ],
 "metadata": {
  "kernelspec": {
   "display_name": "base",
   "language": "python",
   "name": "python3"
  },
  "language_info": {
   "codemirror_mode": {
    "name": "ipython",
    "version": 3
   },
   "file_extension": ".py",
   "mimetype": "text/x-python",
   "name": "python",
   "nbconvert_exporter": "python",
   "pygments_lexer": "ipython3",
   "version": "3.11.4"
  }
 },
 "nbformat": 4,
 "nbformat_minor": 2
}
