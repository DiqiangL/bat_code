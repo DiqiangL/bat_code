{
 "cells": [
  {
   "cell_type": "code",
   "execution_count": 1,
   "metadata": {},
   "outputs": [
    {
     "name": "stdout",
     "output_type": "stream",
     "text": [
      "AUC: 0.5000\n"
     ]
    }
   ],
   "source": [
    "def calculate_auc(y_true, y_scores):\n",
    "    \"\"\"\n",
    "    手写实现 AUC (Area Under the Curve).\n",
    "    \n",
    "    :param y_true: 实际标签列表 (1 表示正例，0 表示负例)\n",
    "    :param y_scores: 预测得分列表（可以是概率或模型输出的分数）\n",
    "    :return: AUC 值\n",
    "    \"\"\"\n",
    "    # 将实际标签和预测得分按预测得分降序排列\n",
    "    sorted_indices = sorted(range(len(y_scores)), key=lambda i: y_scores[i], reverse=True)\n",
    "    sorted_y_true = [y_true[i] for i in sorted_indices]\n",
    "    \n",
    "    # 计算正例和负例的数量\n",
    "    num_positive = sum(sorted_y_true)\n",
    "    num_negative = len(sorted_y_true) - num_positive\n",
    "\n",
    "    # 初始化 AUC 和累加正例数\n",
    "    auc = 0.0\n",
    "    cum_positive_count = 0\n",
    "\n",
    "    # 遍历排序后的标签\n",
    "    for i in range(len(sorted_y_true)):\n",
    "        if sorted_y_true[i] == 1:\n",
    "            cum_positive_count += 1\n",
    "        else:\n",
    "            # 每次遇到负例，累加当前的正例数量，表示正例在负例之前的数量\n",
    "            auc += cum_positive_count\n",
    "\n",
    "    # 归一化 AUC，计算正负样本对中，正样本得分高于负样本的比例\n",
    "    auc /= (num_positive * num_negative)\n",
    "    return auc\n",
    "\n",
    "# 示例用法\n",
    "y_true = [0, 1, 1, 0, 1]  # 实际标签\n",
    "y_scores = [0.1, 0.4, 0.35, 0.8, 0.7]  # 预测得分\n",
    "\n",
    "auc_value = calculate_auc(y_true, y_scores)\n",
    "print(f\"AUC: {auc_value:.4f}\")\n"
   ]
  }
 ],
 "metadata": {
  "kernelspec": {
   "display_name": "base",
   "language": "python",
   "name": "python3"
  },
  "language_info": {
   "codemirror_mode": {
    "name": "ipython",
    "version": 3
   },
   "file_extension": ".py",
   "mimetype": "text/x-python",
   "name": "python",
   "nbconvert_exporter": "python",
   "pygments_lexer": "ipython3",
   "version": "3.11.4"
  }
 },
 "nbformat": 4,
 "nbformat_minor": 2
}
