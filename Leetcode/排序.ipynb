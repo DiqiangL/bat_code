{
 "cells": [
  {
   "cell_type": "code",
   "execution_count": 1,
   "metadata": {},
   "outputs": [
    {
     "name": "stdout",
     "output_type": "stream",
     "text": [
      "冒泡排序结果: [11, 12, 22, 25, 34, 64, 90]\n"
     ]
    }
   ],
   "source": [
    "## 冒泡排序:冒泡排序通过重复地交换相邻的元素来将未排序的部分逐渐排序。\n",
    "\n",
    "def bubble_sort(nums):\n",
    "    n = len(nums)\n",
    "    for i in range(n):\n",
    "        for j in range(0, n-i-1):\n",
    "            if nums[j] > nums[j+1]:\n",
    "                nums[j], nums[j+1] = nums[j+1], nums[j]\n",
    "    return nums\n",
    "\n",
    "\n",
    "# 示例\n",
    "arr = [64, 34, 25, 12, 22, 11, 90]\n",
    "sorted_arr = bubble_sort(arr)\n",
    "print(\"冒泡排序结果:\", sorted_arr)"
   ]
  },
  {
   "cell_type": "code",
   "execution_count": 3,
   "metadata": {},
   "outputs": [
    {
     "name": "stdout",
     "output_type": "stream",
     "text": [
      "堆排序结果: [5, 6, 7, 11, 12, 13]\n"
     ]
    }
   ],
   "source": [
    "def heapify(arr, n, i):\n",
    "    largest = i\n",
    "    left = 2 * i + 1\n",
    "    right = 2 * i + 2\n",
    "\n",
    "    if left < n and arr[i] < arr[left]:\n",
    "        largest = left\n",
    "\n",
    "    if right < n and arr[largest] < arr[right]:\n",
    "        largest = right\n",
    "\n",
    "    if largest != i:\n",
    "        arr[i], arr[largest] = arr[largest], arr[i]\n",
    "        heapify(arr, n, largest)\n",
    "\n",
    "def heap_sort(arr):\n",
    "    n = len(arr)\n",
    "\n",
    "    # 构建最大堆\n",
    "    for i in range(n//2 - 1, -1, -1):\n",
    "        heapify(arr, n, i)\n",
    "\n",
    "    # 一个个交换元素并进行堆调整\n",
    "    for i in range(n-1, 0, -1):\n",
    "        arr[i], arr[0] = arr[0], arr[i]\n",
    "        heapify(arr, i, 0)\n",
    "    \n",
    "    return arr\n",
    "\n",
    "# 示例\n",
    "arr = [12, 11, 13, 5, 6, 7]\n",
    "sorted_arr = heap_sort(arr)\n",
    "print(\"堆排序结果:\", sorted_arr)\n"
   ]
  },
  {
   "cell_type": "code",
   "execution_count": 4,
   "metadata": {},
   "outputs": [
    {
     "name": "stdout",
     "output_type": "stream",
     "text": [
      "快速排序结果: [1, 5, 7, 8, 9, 10]\n"
     ]
    }
   ],
   "source": [
    "## 快排：快速排序是一种分而治之的排序算法，通过选取一个“基准”元素，将数组分为两部分，递归地对每个部分进行排序。\n",
    "def partition(arr, low, high):\n",
    "    pivot = arr[high]\n",
    "    i = low - 1\n",
    "    for j in range(low, high):\n",
    "        if arr[j] <= pivot:\n",
    "            i = i + 1\n",
    "            arr[i], arr[j] = arr[j], arr[i]\n",
    "    arr[i+1], arr[high] = arr[high], arr[i+1]\n",
    "    return i+1\n",
    "\n",
    "\n",
    "\n",
    "\n",
    "\n",
    "\n",
    "def quick_sort(arr, low, high):\n",
    "    if low < high:\n",
    "        pi = partition(arr, low, high)\n",
    "        quick_sort(arr, low, pi-1)\n",
    "        quick_sort(arr, pi+1, high)\n",
    "\n",
    "# 示例\n",
    "arr = [10, 7, 8, 9, 1, 5]\n",
    "quick_sort(arr, 0, len(arr)-1)\n",
    "print(\"快速排序结果:\", arr)\n"
   ]
  },
  {
   "cell_type": "code",
   "execution_count": null,
   "metadata": {},
   "outputs": [],
   "source": []
  },
  {
   "cell_type": "code",
   "execution_count": null,
   "metadata": {},
   "outputs": [],
   "source": [
    "prices = []\n",
    "\n",
    "\n",
    "profilt = -inf, cost = inf\n",
    "for price in prices:\n",
    "    cost = min(cost, price)\n",
    "    profit = max(profilt, price - cost)\n",
    "return profit"
   ]
  },
  {
   "cell_type": "code",
   "execution_count": null,
   "metadata": {},
   "outputs": [],
   "source": [
    "for num in nums:\n",
    "    if "
   ]
  },
  {
   "cell_type": "code",
   "execution_count": null,
   "metadata": {},
   "outputs": [],
   "source": [
    "## 拓扑排序\n",
    "\n",
    "\"\"\"\n",
    "\n",
    "拓扑排序（Topological Sorting）是一种用于有向无环图（DAG, Directed Acyclic Graph）节点排序的方法，使得对于每一条有向边u -> v，节点u在排序中出现在节点v之前。拓扑排序可以应用在任务调度、依赖关系解析等场景中。\n",
    "\n",
    "算法步骤如下：\n",
    "找到图中所有入度为零的节点，将它们加入一个队列。\n",
    "当队列不为空时，执行以下操作：\n",
    "从队列中取出一个节点，将其添加到排序结果中。\n",
    "遍历该节点的所有邻接节点，将它们的入度减1。\n",
    "如果邻接节点的入度变为零，则将该节点加入队列。\n",
    "如果排序结果中的节点数等于图中的节点数，则完成排序；否则，图中存在环，不存在拓扑排序。\n",
    "\n",
    "\"\"\"\n",
    "\n",
    "from collections import deque, defaultdict\n",
    "\n",
    "def topological_sort(num_nodes, edges):\n",
    "    # 初始化入度表和邻接表\n",
    "    in_degree = [0] * num_nodes\n",
    "    adj_list = defaultdict(list)\n",
    "    \n",
    "    # 填充入度表和邻接表\n",
    "    for start, end in edges:\n",
    "        adj_list[start].append(end)\n",
    "        in_degree[end] += 1\n",
    "    \n",
    "    # 找到所有入度为零的节点\n",
    "    zero_in_degree_queue = deque([node for node in range(num_nodes) if in_degree[node] == 0])\n",
    "    \n",
    "    topological_order = []\n",
    "    \n",
    "    while zero_in_degree_queue:\n",
    "        node = zero_in_degree_queue.popleft()\n",
    "        topological_order.append(node)\n",
    "        \n",
    "        # 将该节点的所有邻接节点的入度减1\n",
    "        for neighbor in adj_list[node]:\n",
    "            in_degree[neighbor] -= 1\n",
    "            # 如果邻接节点的入度变为零，则加入队列\n",
    "            if in_degree[neighbor] == 0:\n",
    "                zero_in_degree_queue.append(neighbor)\n",
    "    \n",
    "    # 检查是否存在环\n",
    "    if len(topological_order) == num_nodes:\n",
    "        return topological_order\n",
    "    else:\n",
    "        # 图中存在环\n",
    "        return []\n",
    "\n",
    "# 示例用法\n",
    "num_nodes = 6\n",
    "edges = [(5, 2), (5, 0), (4, 0), (4, 1), (2, 3), (3, 1)]\n",
    "print(topological_sort(num_nodes, edges))\n",
    "\n",
    "\n",
    "\n"
   ]
  }
 ],
 "metadata": {
  "kernelspec": {
   "display_name": "base",
   "language": "python",
   "name": "python3"
  },
  "language_info": {
   "codemirror_mode": {
    "name": "ipython",
    "version": 3
   },
   "file_extension": ".py",
   "mimetype": "text/x-python",
   "name": "python",
   "nbconvert_exporter": "python",
   "pygments_lexer": "ipython3",
   "version": "3.11.4"
  }
 },
 "nbformat": 4,
 "nbformat_minor": 2
}
